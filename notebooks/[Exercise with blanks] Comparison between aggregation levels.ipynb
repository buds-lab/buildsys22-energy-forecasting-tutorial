{
 "cells": [
  {
   "cell_type": "markdown",
   "metadata": {},
   "source": [
    "Based on the given attributes of meters, we'll develope models according to defined aggregation levels:\n",
    "- City-level\n",
    "- Block-level\n",
    "- House-level"
   ]
  },
  {
   "cell_type": "markdown",
   "metadata": {},
   "source": [
    "**How does aggregation levels affect prediction accuracy? Average MSE and R2 of each aggregation level?**\n",
    "\n",
    "Try to caculate MSE and R2 for at least one meter of each level.\n",
    "\n",
    "If possible, plot distribution plot or boxplot of multiple samples in each level."
   ]
  },
  {
   "cell_type": "markdown",
   "metadata": {},
   "source": [
    "## 1. Import pakages"
   ]
  },
  {
   "cell_type": "code",
   "execution_count": null,
   "metadata": {},
   "outputs": [],
   "source": [
    "import pandas as pd\n",
    "import numpy as np\n",
    "\n",
    "import seaborn as sns; sns.set()\n",
    "import matplotlib.pyplot as plt\n",
    "\n",
    "import os\n",
    "import tqdm\n",
    "import requests\n",
    "from datetime import datetime, timedelta\n",
    "import time\n",
    "\n",
    "from sklearn.metrics import r2_score\n",
    "from sklearn.metrics import mean_absolute_error\n",
    "from sklearn.metrics import mean_absolute_percentage_error\n",
    "from sklearn import preprocessing\n",
    "\n",
    "import lightgbm as lgb"
   ]
  },
  {
   "cell_type": "markdown",
   "metadata": {},
   "source": [
    "## 2. Data reading and preprocessing"
   ]
  },
  {
   "cell_type": "code",
   "execution_count": null,
   "metadata": {},
   "outputs": [],
   "source": [
    "path_dataset=r'C:\\Users\\patri\\Buildsys_Tutorial\\dataset'\n",
    "os.listdir(path_dataset)"
   ]
  },
  {
   "cell_type": "code",
   "execution_count": null,
   "metadata": {},
   "outputs": [],
   "source": [
    "informations_households = pd.read_csv(os.path.join(path_dataset,'informations_households.csv'))\n",
    "informations_households"
   ]
  },
  {
   "cell_type": "markdown",
   "metadata": {},
   "source": [
    "### 2.1 Energy data"
   ]
  },
  {
   "cell_type": "code",
   "execution_count": null,
   "metadata": {
    "scrolled": true
   },
   "outputs": [],
   "source": [
    "elec_house = pd.read_csv(os.path.join(path_dataset,'elec_house.csv'),index_col='tstp',parse_dates=True)\n",
    "elec_block = pd.read_csv(os.path.join(path_dataset,'elec_block.csv'),index_col='tstp',parse_dates=True)\n",
    "elec_city = pd.read_csv(os.path.join(path_dataset,'elec_city.csv'),index_col='tstp',parse_dates=True).rename(columns={'energy(kWh/hh)':'London'})"
   ]
  },
  {
   "cell_type": "code",
   "execution_count": null,
   "metadata": {
    "scrolled": true
   },
   "outputs": [],
   "source": [
    "target_house = 'MAC005492'\n",
    "target_block = 'block_0'\n",
    "\n",
    "list_LCLid = informations_households.loc[informations_households['file']==target_block, 'LCLid'].to_list()\n",
    "\n",
    "elec_house[list_LCLid[:10]].plot(figsize=(15,5),color='black',alpha=0.25,title='Electricity meters in '+target_block)\n",
    "elec_house[[target_house]].plot(figsize=(15,5),color='grey',title='Single electricity meter - '+target_house)\n",
    "elec_block[[target_block]].plot(figsize=(15,5),color='blue',title='Average of electricity consumption in '+target_block)\n",
    "elec_city[['London']].plot(figsize=(15,5),color='green',title='Average of electricity consumption in London')"
   ]
  },
  {
   "cell_type": "markdown",
   "metadata": {},
   "source": [
    "### 2.2 Weather data"
   ]
  },
  {
   "cell_type": "code",
   "execution_count": null,
   "metadata": {},
   "outputs": [],
   "source": [
    "weather_hourly_darksky = pd.read_csv(os.path.join(path_dataset,'weather_hourly_darksky.csv'),index_col='time',parse_dates=True)"
   ]
  },
  {
   "cell_type": "code",
   "execution_count": null,
   "metadata": {},
   "outputs": [],
   "source": [
    "temperatureData = weather_hourly_darksky['temperature']"
   ]
  },
  {
   "cell_type": "markdown",
   "metadata": {},
   "source": [
    "### 2.3 Calendar data"
   ]
  },
  {
   "cell_type": "code",
   "execution_count": null,
   "metadata": {},
   "outputs": [],
   "source": [
    "df_holiday = pd.read_csv(os.path.join(path_dataset,'uk_bank_holidays.csv'))\n",
    "df_holiday['Bank holidays'] = pd.to_datetime(df_holiday['Bank holidays'])\n",
    "df_holiday = df_holiday.rename(columns={'Bank holidays':'date','Type':'Holiday'})"
   ]
  },
  {
   "cell_type": "code",
   "execution_count": null,
   "metadata": {},
   "outputs": [],
   "source": [
    "calendar_encoder = preprocessing.LabelEncoder()\n",
    "df_holiday['Holiday'] = calendar_encoder.fit_transform(df_holiday['Holiday'])"
   ]
  },
  {
   "cell_type": "markdown",
   "metadata": {},
   "source": [
    "## 3. Forecasting model of city-wide electricity"
   ]
  },
  {
   "cell_type": "code",
   "execution_count": null,
   "metadata": {
    "scrolled": true
   },
   "outputs": [],
   "source": [
    "# Prepare dataset: elec_city[['London']]"
   ]
  },
  {
   "cell_type": "code",
   "execution_count": null,
   "metadata": {},
   "outputs": [],
   "source": [
    "# list of features\n",
    "list_feat = []"
   ]
  },
  {
   "cell_type": "code",
   "execution_count": null,
   "metadata": {},
   "outputs": [],
   "source": [
    "# Data split (training:2013-01~2013-06; test:2013-07~present)"
   ]
  },
  {
   "cell_type": "markdown",
   "metadata": {},
   "source": [
    "## 4. Forecasting models of block electricity meters"
   ]
  },
  {
   "cell_type": "code",
   "execution_count": null,
   "metadata": {
    "scrolled": true
   },
   "outputs": [],
   "source": [
    "# Prepare dataset: elec_block[['block_0']]"
   ]
  },
  {
   "cell_type": "code",
   "execution_count": null,
   "metadata": {
    "scrolled": true
   },
   "outputs": [],
   "source": [
    "# Data split (training:2013-01~2013-06; test:2013-07~present)\n",
    "\n",
    "# Create forecasting model\n"
   ]
  },
  {
   "cell_type": "markdown",
   "metadata": {},
   "source": [
    "## 5. Forecasting models of house electricity meters"
   ]
  },
  {
   "cell_type": "code",
   "execution_count": null,
   "metadata": {
    "scrolled": true
   },
   "outputs": [],
   "source": [
    "# Prepare dataset: elec_house[['MAC005492']]"
   ]
  },
  {
   "cell_type": "code",
   "execution_count": null,
   "metadata": {
    "scrolled": true
   },
   "outputs": [],
   "source": [
    "# Data split (training:2013-01~2013-06; test:2013-07~present)\n",
    "\n",
    "# Create forecasting model\n"
   ]
  },
  {
   "cell_type": "code",
   "execution_count": null,
   "metadata": {},
   "outputs": [],
   "source": []
  }
 ],
 "metadata": {
  "kernelspec": {
   "display_name": "Python 3",
   "language": "python",
   "name": "python3"
  },
  "language_info": {
   "codemirror_mode": {
    "name": "ipython",
    "version": 3
   },
   "file_extension": ".py",
   "mimetype": "text/x-python",
   "name": "python",
   "nbconvert_exporter": "python",
   "pygments_lexer": "ipython3",
   "version": "3.7.6"
  }
 },
 "nbformat": 4,
 "nbformat_minor": 4
}

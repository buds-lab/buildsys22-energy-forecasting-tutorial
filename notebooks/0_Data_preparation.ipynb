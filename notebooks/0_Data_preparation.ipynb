{
 "cells": [
  {
   "cell_type": "markdown",
   "metadata": {},
   "source": [
    "### Copyright\n",
    "**These notebooks, authored by Chun Fu and Hussain Kazmi, are accompanying material to the first Buildsys tutorial on load forecasting at building and urban scale. They are licensed under the AGPL License; you may not use this file except in compliance with the License. Notebooks are distributed on an “AS IS” BASIS, WITHOUT WARRANTIES OR CONDITIONS OF ANY KIND, either express or implied.**"
   ]
  },
  {
   "cell_type": "markdown",
   "metadata": {
    "id": "OPQiqM0sA-3i"
   },
   "source": [
    "# Notebook 0: Data preparation"
   ]
  },
  {
   "cell_type": "markdown",
   "metadata": {
    "id": "XkoeJOI0DMsU"
   },
   "source": [
    "This notebook will help you prepare a dataset for modeling.\n",
    "\n",
    "The original dataset consists of 112 separate CSV files (one file for one block), which will be combined into a single file and stored in a pivot format to conserve storage space, and reduce loading times. The \n",
    "\n",
    "To get different aggregation levels of energy demand, we will export three files at the following aggregation levels:\n",
    "\n",
    "- City level\n",
    "- Block level\n",
    "- House level"
   ]
  },
  {
   "cell_type": "markdown",
   "metadata": {
    "id": "etJe3JqcDqdY"
   },
   "source": [
    "We begin with importing the necessary libraries."
   ]
  },
  {
   "cell_type": "code",
   "execution_count": null,
   "metadata": {
    "id": "4Abei4doA-3l",
    "outputId": "f8cb5274-4ca0-4cae-9813-8f186f2c1c25"
   },
   "outputs": [
    {
     "data": {
      "text/html": [
       "        <script type=\"text/javascript\">\n",
       "        window.PlotlyConfig = {MathJaxConfig: 'local'};\n",
       "        if (window.MathJax) {MathJax.Hub.Config({SVG: {font: \"STIX-Web\"}});}\n",
       "        if (typeof require !== 'undefined') {\n",
       "        require.undef(\"plotly\");\n",
       "        requirejs.config({\n",
       "            paths: {\n",
       "                'plotly': ['https://cdn.plot.ly/plotly-latest.min']\n",
       "            }\n",
       "        });\n",
       "        require(['plotly'], function(Plotly) {\n",
       "            window._Plotly = Plotly;\n",
       "        });\n",
       "        }\n",
       "        </script>\n",
       "        "
      ]
     },
     "metadata": {},
     "output_type": "display_data"
    }
   ],
   "source": [
    "import pandas as pd\n",
    "import numpy as np\n",
    "import tqdm\n",
    "import os"
   ]
  },
  {
   "cell_type": "markdown",
   "metadata": {
    "id": "IYPyN4hVDt2Q"
   },
   "source": [
    "Next, let us define the path to the dataset from where we will load it."
   ]
  },
  {
   "cell_type": "code",
   "execution_count": null,
   "metadata": {
    "id": "BYPgqQAxA-3m",
    "outputId": "3f6cc14d-b316-4e56-aea3-b57c8ed21f99"
   },
   "outputs": [
    {
     "data": {
      "text/plain": [
       "['acorn_details.csv',\n",
       " 'daily_dataset.csv',\n",
       " 'darksky_parameters_documentation.html',\n",
       " 'elec_block.csv',\n",
       " 'elec_house.csv',\n",
       " 'elec_nation.csv',\n",
       " 'halfhourly_dataset',\n",
       " 'informations_households.csv',\n",
       " 'uk_bank_holidays.csv',\n",
       " 'weather_daily_darksky.csv',\n",
       " 'weather_hourly_darksky.csv']"
      ]
     },
     "execution_count": 2,
     "metadata": {},
     "output_type": "execute_result"
    }
   ],
   "source": [
    "path_dataset=r'C:\\Users\\patri\\Buildsys_Tutorial\\dataset'\n",
    "path_dataset_meters=r'C:\\Users\\patri\\Buildsys_Tutorial\\dataset\\halfhourly_dataset\\halfhourly_dataset'\n",
    "\n",
    "os.listdir(path_dataset)"
   ]
  },
  {
   "cell_type": "markdown",
   "metadata": {
    "id": "1p2y_KMoD1Hs"
   },
   "source": [
    "At this point, we load the dataset from the defined path, and print a snapshot."
   ]
  },
  {
   "cell_type": "code",
   "execution_count": null,
   "metadata": {
    "id": "Z_ArOVp6A-3n",
    "outputId": "92e4f8b0-7ecf-42a1-d06f-3f25c3e5b2ec",
    "scrolled": true
   },
   "outputs": [
    {
     "name": "stderr",
     "output_type": "stream",
     "text": [
      "100%|████████████████████████████████████████████████████████████████████████████████| 112/112 [04:57<00:00,  2.66s/it]\n"
     ]
    },
    {
     "data": {
      "text/html": [
       "<div>\n",
       "<style scoped>\n",
       "    .dataframe tbody tr th:only-of-type {\n",
       "        vertical-align: middle;\n",
       "    }\n",
       "\n",
       "    .dataframe tbody tr th {\n",
       "        vertical-align: top;\n",
       "    }\n",
       "\n",
       "    .dataframe thead th {\n",
       "        text-align: right;\n",
       "    }\n",
       "</style>\n",
       "<table border=\"1\" class=\"dataframe\">\n",
       "  <thead>\n",
       "    <tr style=\"text-align: right;\">\n",
       "      <th></th>\n",
       "      <th>LCLid</th>\n",
       "      <th>energy(kWh/hh)</th>\n",
       "      <th>file_name</th>\n",
       "    </tr>\n",
       "    <tr>\n",
       "      <th>tstp</th>\n",
       "      <th></th>\n",
       "      <th></th>\n",
       "      <th></th>\n",
       "    </tr>\n",
       "  </thead>\n",
       "  <tbody>\n",
       "    <tr>\n",
       "      <th>2012-10-12 00:30:00</th>\n",
       "      <td>MAC000002</td>\n",
       "      <td>0.000</td>\n",
       "      <td>block_0</td>\n",
       "    </tr>\n",
       "    <tr>\n",
       "      <th>2012-10-12 01:00:00</th>\n",
       "      <td>MAC000002</td>\n",
       "      <td>0.000</td>\n",
       "      <td>block_0</td>\n",
       "    </tr>\n",
       "    <tr>\n",
       "      <th>2012-10-12 01:30:00</th>\n",
       "      <td>MAC000002</td>\n",
       "      <td>0.000</td>\n",
       "      <td>block_0</td>\n",
       "    </tr>\n",
       "    <tr>\n",
       "      <th>2012-10-12 02:00:00</th>\n",
       "      <td>MAC000002</td>\n",
       "      <td>0.000</td>\n",
       "      <td>block_0</td>\n",
       "    </tr>\n",
       "    <tr>\n",
       "      <th>2012-10-12 02:30:00</th>\n",
       "      <td>MAC000002</td>\n",
       "      <td>0.000</td>\n",
       "      <td>block_0</td>\n",
       "    </tr>\n",
       "    <tr>\n",
       "      <th>...</th>\n",
       "      <td>...</td>\n",
       "      <td>...</td>\n",
       "      <td>...</td>\n",
       "    </tr>\n",
       "    <tr>\n",
       "      <th>2014-02-27 22:00:00</th>\n",
       "      <td>MAC005019</td>\n",
       "      <td>0.129</td>\n",
       "      <td>block_99</td>\n",
       "    </tr>\n",
       "    <tr>\n",
       "      <th>2014-02-27 22:30:00</th>\n",
       "      <td>MAC005019</td>\n",
       "      <td>0.095</td>\n",
       "      <td>block_99</td>\n",
       "    </tr>\n",
       "    <tr>\n",
       "      <th>2014-02-27 23:00:00</th>\n",
       "      <td>MAC005019</td>\n",
       "      <td>0.061</td>\n",
       "      <td>block_99</td>\n",
       "    </tr>\n",
       "    <tr>\n",
       "      <th>2014-02-27 23:30:00</th>\n",
       "      <td>MAC005019</td>\n",
       "      <td>0.054</td>\n",
       "      <td>block_99</td>\n",
       "    </tr>\n",
       "    <tr>\n",
       "      <th>2014-02-28 00:00:00</th>\n",
       "      <td>MAC005019</td>\n",
       "      <td>0.074</td>\n",
       "      <td>block_99</td>\n",
       "    </tr>\n",
       "  </tbody>\n",
       "</table>\n",
       "<p>167811461 rows × 3 columns</p>\n",
       "</div>"
      ],
      "text/plain": [
       "                         LCLid  energy(kWh/hh) file_name\n",
       "tstp                                                    \n",
       "2012-10-12 00:30:00  MAC000002           0.000   block_0\n",
       "2012-10-12 01:00:00  MAC000002           0.000   block_0\n",
       "2012-10-12 01:30:00  MAC000002           0.000   block_0\n",
       "2012-10-12 02:00:00  MAC000002           0.000   block_0\n",
       "2012-10-12 02:30:00  MAC000002           0.000   block_0\n",
       "...                        ...             ...       ...\n",
       "2014-02-27 22:00:00  MAC005019           0.129  block_99\n",
       "2014-02-27 22:30:00  MAC005019           0.095  block_99\n",
       "2014-02-27 23:00:00  MAC005019           0.061  block_99\n",
       "2014-02-27 23:30:00  MAC005019           0.054  block_99\n",
       "2014-02-28 00:00:00  MAC005019           0.074  block_99\n",
       "\n",
       "[167811461 rows x 3 columns]"
      ]
     },
     "execution_count": 3,
     "metadata": {},
     "output_type": "execute_result"
    }
   ],
   "source": [
    "halfhourly_dataset = []\n",
    "\n",
    "for file_name in tqdm.tqdm(os.listdir(path_dataset_meters)):\n",
    "    df_temp = pd.read_csv(os.path.join(path_dataset_meters, file_name),index_col='tstp',parse_dates=True, low_memory=False)\n",
    "    df_temp['file_name'] = file_name.split('.')[0]\n",
    "    df_temp = df_temp.replace('Null', np.nan).dropna()\n",
    "    df_temp['energy(kWh/hh)'] = df_temp['energy(kWh/hh)'].astype('float')\n",
    "    halfhourly_dataset.append(df_temp)\n",
    "    \n",
    "halfhourly_dataset = pd.concat(halfhourly_dataset, axis=0)\n",
    "halfhourly_dataset"
   ]
  },
  {
   "cell_type": "markdown",
   "metadata": {
    "id": "vQfLojXfEZ4B"
   },
   "source": [
    "The datasets contain timestamps which show that data is sampled at a half hourly interval. The data also contains the building ID as well as the energy demand, which we are interested in modelling. \n",
    "\n",
    "Let's take a closer look at the dataframe next."
   ]
  },
  {
   "cell_type": "code",
   "execution_count": null,
   "metadata": {
    "id": "IN8-si1sA-3n",
    "outputId": "75130f50-b9ed-4afb-d8c3-29bcb08a9878"
   },
   "outputs": [
    {
     "name": "stdout",
     "output_type": "stream",
     "text": [
      "<class 'pandas.core.frame.DataFrame'>\n",
      "DatetimeIndex: 167811461 entries, 2012-10-12 00:30:00 to 2014-02-28 00:00:00\n",
      "Data columns (total 3 columns):\n",
      " #   Column          Dtype  \n",
      "---  ------          -----  \n",
      " 0   LCLid           object \n",
      " 1   energy(kWh/hh)  float64\n",
      " 2   file_name       object \n",
      "dtypes: float64(1), object(2)\n",
      "memory usage: 5.0+ GB\n"
     ]
    }
   ],
   "source": [
    "halfhourly_dataset.info()"
   ]
  },
  {
   "cell_type": "markdown",
   "metadata": {
    "id": "ANU_bVdVExrh"
   },
   "source": [
    "We can now use the pivot_table command to create three separate dataframes (i.e. at different aggregation levels), and write them to csv files on disk."
   ]
  },
  {
   "cell_type": "code",
   "execution_count": null,
   "metadata": {
    "id": "j0Y4YGWkA-3n"
   },
   "outputs": [],
   "source": [
    "df_house = halfhourly_dataset.pivot_table(index='tstp',values='energy(kWh/hh)',columns='LCLid')\n",
    "df_block = halfhourly_dataset.pivot_table(index='tstp',values='energy(kWh/hh)',columns='file_name')\n",
    "df_city = halfhourly_dataset.pivot_table(index='tstp',values='energy(kWh/hh)')"
   ]
  },
  {
   "cell_type": "code",
   "execution_count": null,
   "metadata": {
    "id": "XKn5udk6A-3o"
   },
   "outputs": [],
   "source": [
    "df_city.to_csv(os.path.join(path_dataset,'elec_city.csv'))\n",
    "df_block.to_csv(os.path.join(path_dataset,'elec_block.csv'))\n",
    "df_house.to_csv(os.path.join(path_dataset,'elec_house.csv'))"
   ]
  },
  {
   "cell_type": "code",
   "execution_count": null,
   "metadata": {
    "id": "kcFPHp50A-3o"
   },
   "outputs": [],
   "source": [
    "#Ram-saving version\n",
    "\n",
    "#df_output = halfhourly_dataset.pivot_table(index='tstp',values='energy(kWh/hh)',columns='LCLid')\n",
    "#df_output.to_csv('elec_house.csv')\n",
    "\n",
    "#df_output = halfhourly_dataset.groupby(['tstp', 'file_name'])['energy(kWh/hh)'].mean().unstack()\n",
    "#df_output.to_csv('elec_block.csv')\n",
    "\n",
    "#df_output = halfhourly_dataset.pivot_table(index='tstp',values='energy(kWh/hh)')\n",
    "#df_output.to_csv('elec_city.csv')"
   ]
  },
  {
   "cell_type": "code",
   "execution_count": null,
   "metadata": {
    "id": "SsI9RUvYA-3p"
   },
   "outputs": [],
   "source": []
  }
 ],
 "metadata": {
  "colab": {
   "provenance": []
  },
  "kernelspec": {
   "display_name": "Python 3",
   "language": "python",
   "name": "python3"
  },
  "language_info": {
   "codemirror_mode": {
    "name": "ipython",
    "version": 3
   },
   "file_extension": ".py",
   "mimetype": "text/x-python",
   "name": "python",
   "nbconvert_exporter": "python",
   "pygments_lexer": "ipython3",
   "version": "3.7.6"
  }
 },
 "nbformat": 4,
 "nbformat_minor": 5
}
